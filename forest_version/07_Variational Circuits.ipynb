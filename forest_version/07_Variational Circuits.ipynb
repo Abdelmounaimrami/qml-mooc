{
 "cells": [
  {
   "cell_type": "markdown",
   "metadata": {},
   "source": [
    "Current and near-term quantum computers suffer from imperfections, as we repeatedly pointed it out. This is why we cannot run long algorithms, that is, deep circuits on them. A new breed of algorithms started to appear since 2013 that focus on getting an advantage from imperfect quantum computers. The basic idea is extremely simple: run a short sequence of gates where some gates are parametrized. Then read out the result, make adjustments to the parameters on a classical computer, and repeat the calculation with the new parameters on the quantum hardware. This way we create an iterative loop between the quantum and the classical processing units, creating classical-quantum hybrid algorithms.\n",
    "\n",
    "<img src=\"../figures/hybrid_classical_quantum.svg\" alt=\"Hybrid classical-quantum paradigm\" style=\"width: 400px;\"/>\n",
    "\n",
    "These algorithms are also called variational to reflect the variational approach to changing the parameters. One of the most important example of this approach is the quantum approximate optimization algorithm, which is the subject of this notebook."
   ]
  },
  {
   "cell_type": "markdown",
   "metadata": {},
   "source": [
    "# Quantum approximate optimization algorithm\n",
    "\n",
    "The quantum approximate optimization algorithm (QAOA) is shallow-circuit variational algorithm for gate-model quantum computers that was inspired by quantum annealing. We discretize the adiabatic pathway in some $p$ steps, where $p$ influences precision. Each discrete time step $i$ has two parameters, $\\beta_i, \\gamma_i$. The classical variational algorithms does an optimization over these parameters based on the observed energy at the end of a run on the quantum hardware.\n",
    "\n",
    "More formally, we want to discretize the time-dependent $H(t)=(1-t)H_0 + tH_1$ under adiabatic conditions. We achieve this by Trotterizing the unitary. For instance, for time step $t_0$, we can split this unitary as $U(t_0) = U(H_0, \\beta_0)U(H_1, \\gamma_0)$. We can continue doing this for subsequent time steps, eventually splitting up the evolution to $p$ such chunks:\n",
    "\n",
    "$$\n",
    "U = U(H_0, \\beta_0)U(H_1, \\gamma_0)\\ldots U(H_0, \\beta_p)U(H_1, \\gamma_p).\n",
    "$$\n",
    "\n",
    "At the end of optimizing the parameters, this discretized evolution will approximate the adiabatic pathway:\n",
    "\n",
    "<img src=\"../figures/qaoa_process.svg\" alt=\"Quantum approximate optimization algorithm\" style=\"width: 400px;\"/>\n",
    "\n",
    "The Hamiltonian $H_0$ is often referred to as the driving or mixing Hamiltonian, and $H_1$ as the cost Hamiltonian. The simplest mixing Hamiltonian is $H_0 = -\\sum_i \\sigma^X_i$, the same as the initial Hamiltonian in quantum annealing. By alternating between the two Hamiltonian, the mixing Hamiltonian drives the state towards and equal superposition, whereas the cost Hamiltonian tries to seek its own ground state.\n",
    "\n",
    "Let us import the necessary packages first:"
   ]
  },
  {
   "cell_type": "code",
   "execution_count": 1,
   "metadata": {
    "ExecuteTime": {
     "end_time": "2018-11-19T20:09:25.405530Z",
     "start_time": "2018-11-19T20:09:25.393410Z"
    }
   },
   "outputs": [],
   "source": [
    "import numpy as np\n",
    "from functools import partial\n",
    "\n",
    "from pyquil import Program, api\n",
    "\n",
    "from pyquil.paulis import PauliSum, PauliTerm, exponential_map, sZ\n",
    "from pyquil.gates import *\n",
    "from grove.pyvqe import vqe\n",
    "\n",
    "from scipy.optimize import minimize\n",
    "\n",
    "np.set_printoptions(precision=3, suppress=True)"
   ]
  },
  {
   "cell_type": "code",
   "execution_count": 2,
   "metadata": {
    "collapsed": true
   },
   "outputs": [],
   "source": [
    "n_qubits = 2"
   ]
  },
  {
   "cell_type": "markdown",
   "metadata": {},
   "source": [
    "Now we can define our mixing Hamiltonian on some qubits. As in the notebook on classical and quantum many-body physics, we had to define, for instance, an `IZ` operator to express $\\mathbb{I}\\otimes\\sigma_1^Z$, that is, the $\\sigma_1^Z$ operator acting only on qubit 1. We can achieve the same effect the following way (this time using the Pauli-X operator). The coefficient here means the strength of the transverse field at the given qubit. This operator will act trivially on all qubits, except the given one. Let's define the mixing Hamiltonian over two qubits:"
   ]
  },
  {
   "cell_type": "code",
   "execution_count": 3,
   "metadata": {},
   "outputs": [],
   "source": [
    "Hm = [PauliTerm(\"X\", i, 1.0) for i in range(n_qubits)]"
   ]
  },
  {
   "cell_type": "markdown",
   "metadata": {},
   "source": [
    "As an example, we will minimize the Ising problem defined by the cost Hamiltonian $H_c=-\\sigma^Z_1 \\otimes \\sigma^Z_2$:"
   ]
  },
  {
   "cell_type": "code",
   "execution_count": 4,
   "metadata": {
    "ExecuteTime": {
     "end_time": "2018-11-19T20:08:17.885938Z",
     "start_time": "2018-11-19T20:08:17.865184Z"
    }
   },
   "outputs": [],
   "source": [
    "J = np.array([[0,1],[0,0]]) # weight matrix of the ising model. Only the coefficient (0,1) is non-zero.\n",
    "\n",
    "Hc = []\n",
    "for i in range(n_qubits):\n",
    "    for j in range(n_qubits):\n",
    "        Hc.append(PauliTerm(\"Z\", i, -J[i, j]) * PauliTerm(\"Z\", j, 1.0))"
   ]
  },
  {
   "cell_type": "markdown",
   "metadata": {},
   "source": [
    "During the iterative procedure, we will need to compute $e^{-i \\nu H_c}$ and $e^{-i \\gamma H_m}$. Using the function `exponential_map` of PyQuil, we can build two functions that take respectively $\\beta$ and $\\nu$ and return $e^{-i \\nu H_c}$ and $e^{-i \\gamma H_m}$"
   ]
  },
  {
   "cell_type": "code",
   "execution_count": 5,
   "metadata": {},
   "outputs": [],
   "source": [
    "exp_Hm = []\n",
    "exp_Hc = []\n",
    "for term in Hm:\n",
    "    exp_Hm.append(exponential_map(term))\n",
    "for term in Hc:\n",
    "    exp_Hc.append(exponential_map(term))"
   ]
  },
  {
   "cell_type": "markdown",
   "metadata": {},
   "source": [
    "We set $p=2$ and initialize the $\\gamma_i$ and $\\nu_i$ parameters:"
   ]
  },
  {
   "cell_type": "code",
   "execution_count": 6,
   "metadata": {
    "ExecuteTime": {
     "end_time": "2018-11-19T20:08:17.925805Z",
     "start_time": "2018-11-19T20:08:17.905037Z"
    },
    "collapsed": true
   },
   "outputs": [],
   "source": [
    "n_iter = 10 # number of iterations of the optimization procedure\n",
    "p = 1\n",
    "ν = np.random.uniform(0, np.pi*2, p)\n",
    "γ = np.random.uniform(0, np.pi*2, p)"
   ]
  },
  {
   "cell_type": "markdown",
   "metadata": {},
   "source": [
    "The initial state is a uniform superposition of all the states $|q_1,...,q_n\\rangle$. It can be created using Hadamard gates on all the qubits |0> of an new program."
   ]
  },
  {
   "cell_type": "code",
   "execution_count": 7,
   "metadata": {},
   "outputs": [],
   "source": [
    "initial_state = Program()\n",
    "for i in range(n_qubits):\n",
    "    initial_state += H(i)"
   ]
  },
  {
   "cell_type": "markdown",
   "metadata": {},
   "source": [
    "To create the circuit, we need to compose the different unitary matrice given by `evolve`."
   ]
  },
  {
   "cell_type": "code",
   "execution_count": 8,
   "metadata": {
    "ExecuteTime": {
     "end_time": "2018-11-19T20:08:18.091375Z",
     "start_time": "2018-11-19T20:08:18.077164Z"
    }
   },
   "outputs": [],
   "source": [
    "def create_circuit(ν, γ, p):\n",
    "    total_circuit = Program()\n",
    "    total_circuit += initial_state\n",
    "    for i in range(p):\n",
    "        for term_exp_Hc in exp_Hc:\n",
    "            total_circuit += term_exp_Hc(-ν[i])\n",
    "        for term_exp_Hm in exp_Hm:\n",
    "            total_circuit += term_exp_Hm(-γ[i])\n",
    "\n",
    "    return total_circuit"
   ]
  },
  {
   "cell_type": "markdown",
   "metadata": {},
   "source": [
    "We now create a function `evaluate_circuit` that takes a single vector `nu_gamma` (the concatenation of $\\nu$ and $\\gamma$) and returns $\\langle H_c \\rangle = \\langle \\psi | H_c | \\psi \\rangle$ where $\\psi$ is defined by the circuit created with the function above."
   ]
  },
  {
   "cell_type": "code",
   "execution_count": 9,
   "metadata": {
    "ExecuteTime": {
     "end_time": "2018-11-19T20:08:18.117855Z",
     "start_time": "2018-11-19T20:08:18.093293Z"
    },
    "collapsed": true
   },
   "outputs": [],
   "source": [
    "def evaluate_circuit(qvm, nu_gamma, p):\n",
    "    ν = nu_gamma[:p]\n",
    "    γ = nu_gamma[p:]\n",
    "    circuit = create_circuit(ν, γ, p)\n",
    "    return qvm.pauli_expectation(circuit, sum(Hc))"
   ]
  },
  {
   "cell_type": "markdown",
   "metadata": {},
   "source": [
    "Finally, we optimize the angles:"
   ]
  },
  {
   "cell_type": "code",
   "execution_count": 10,
   "metadata": {
    "ExecuteTime": {
     "end_time": "2018-11-19T20:08:37.699288Z",
     "start_time": "2018-11-19T20:08:18.119570Z"
    }
   },
   "outputs": [
    {
     "name": "stderr",
     "output_type": "stream",
     "text": [
      "/home/artix41/miniconda3/envs/quantum-mooc/lib/python3.7/site-packages/pyquil/paulis.py:703: UserWarning: The term Z1Z0 will be combined with Z0Z1, but they have different orders of operations. This doesn't matter for QVM or wavefunction simulation but may be important when running on an actual device.\n",
      "  .format(t.id(sort_ops=False), first_term.id(sort_ops=False)))\n",
      "/home/artix41/miniconda3/envs/quantum-mooc/lib/python3.7/site-packages/scipy/optimize/optimize.py:670: ComplexWarning: Casting complex values to real discards the imaginary part\n",
      "  grad[k] = (f(*((xk + d,) + args)) - f0) / d[k]\n",
      "/home/artix41/miniconda3/envs/quantum-mooc/lib/python3.7/site-packages/scipy/optimize/lbfgsb.py:328: ComplexWarning: Casting complex values to real discards the imaginary part\n",
      "  isave, dsave, maxls)\n"
     ]
    },
    {
     "data": {
      "text/plain": [
       "      fun: (-0.9999999999992719+0j)\n",
       " hess_inv: <2x2 LbfgsInvHessProduct with dtype=float64>\n",
       "      jac: array([-0., -0.])\n",
       "  message: b'CONVERGENCE: NORM_OF_PROJECTED_GRADIENT_<=_PGTOL'\n",
       "     nfev: 54\n",
       "      nit: 10\n",
       "   status: 0\n",
       "  success: True\n",
       "        x: array([2.356, 5.105])"
      ]
     },
     "execution_count": 10,
     "metadata": {},
     "output_type": "execute_result"
    }
   ],
   "source": [
    "qvm = api.QVMConnection()\n",
    "evaluate = partial(evaluate_circuit, qvm, p=p)\n",
    "\n",
    "result = minimize(evaluate, np.concatenate([ν, γ]), method='L-BFGS-B')\n",
    "result"
   ]
  },
  {
   "cell_type": "markdown",
   "metadata": {},
   "source": [
    "# Analysis of the results\n",
    "\n",
    "We create a circuit using the optimal parameters found."
   ]
  },
  {
   "cell_type": "code",
   "execution_count": 11,
   "metadata": {
    "ExecuteTime": {
     "end_time": "2018-11-19T20:08:37.795769Z",
     "start_time": "2018-11-19T20:08:37.701647Z"
    },
    "collapsed": true
   },
   "outputs": [],
   "source": [
    "circuit = create_circuit(result['x'][:p], result['x'][p:], p)"
   ]
  },
  {
   "cell_type": "markdown",
   "metadata": {},
   "source": [
    "We use the `statevector_simulator` backend in order to display the state created by the circuit."
   ]
  },
  {
   "cell_type": "code",
   "execution_count": 12,
   "metadata": {
    "ExecuteTime": {
     "end_time": "2018-11-19T20:08:38.175963Z",
     "start_time": "2018-11-19T20:08:37.797375Z"
    }
   },
   "outputs": [
    {
     "name": "stdout",
     "output_type": "stream",
     "text": [
      "(0.5+0.5j)|00> + (-7.76e-08-4.192e-07j)|01> + (-7.76e-08-4.192e-07j)|10> + (0.5+0.5j)|11>\n"
     ]
    }
   ],
   "source": [
    "wf_sim = api.WavefunctionSimulator()\n",
    "state = wf_sim.wavefunction(circuit)\n",
    "print(state)"
   ]
  },
  {
   "cell_type": "markdown",
   "metadata": {},
   "source": [
    "We see that the state is approximately $(0.5 - 0.5i) \\left( |00 \\rangle + |11 \\rangle \\right) = e^{i \\theta} \\frac{1}{\\sqrt{2}} \\left( |00 \\rangle + |11 \\rangle \\right)$, where $\\theta$ is a phase factor that doesn't change the probabilities. It corresponds to a uniform superposition of the two solutions of the classicial problem: $(\\sigma_1=1$, $\\sigma_2=1)$ and $(\\sigma_1=-1$, $\\sigma_2=-1)$"
   ]
  },
  {
   "cell_type": "markdown",
   "metadata": {},
   "source": [
    "Let's now try to evaluate the operators $\\sigma^Z_1$ and $\\sigma^Z_2$ independently:"
   ]
  },
  {
   "cell_type": "code",
   "execution_count": 13,
   "metadata": {
    "ExecuteTime": {
     "end_time": "2018-11-19T20:08:38.181888Z",
     "start_time": "2018-11-19T20:08:38.178242Z"
    }
   },
   "outputs": [
    {
     "name": "stdout",
     "output_type": "stream",
     "text": [
      "0j\n",
      "0j\n"
     ]
    }
   ],
   "source": [
    "print(qvm.pauli_expectation(circuit, PauliSum([sZ(0)])))\n",
    "print(qvm.pauli_expectation(circuit, PauliSum([sZ(1)])))"
   ]
  },
  {
   "cell_type": "markdown",
   "metadata": {},
   "source": [
    "We see that both are approximatively equal to zero. It's expected given the state we found above (both spins takes -1 and 1 half of the time). It corresponds to a typical quantum behavior where $\\mathbb{E}[\\sigma^Z_1 \\sigma^Z_2] \\neq \\mathbb{E}[\\sigma^Z_1] \\mathbb{E}[\\sigma^Z_2]$"
   ]
  }
 ],
 "metadata": {
  "kernelspec": {
   "display_name": "Python [conda env:quantum-mooc]",
   "language": "python",
   "name": "conda-env-quantum-mooc-py"
  },
  "language_info": {
   "codemirror_mode": {
    "name": "ipython",
    "version": 3
   },
   "file_extension": ".py",
   "mimetype": "text/x-python",
   "name": "python",
   "nbconvert_exporter": "python",
   "pygments_lexer": "ipython3",
   "version": "3.7.2"
  }
 },
 "nbformat": 4,
 "nbformat_minor": 2
}
