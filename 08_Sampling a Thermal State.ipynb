{
 "cells": [
  {
   "cell_type": "markdown",
   "metadata": {
    "collapsed": true
   },
   "source": [
    "In a previous notebook, we sought the ground state of many-body systems, and connected this problem to binary optimization computer science. As we have seen, this connection is useful to understand for adiabatic quantum computing and variational algorithms.\n",
    "\n",
    "However, we also talked about the engineering constraints we face in real devices: the evolution in these devices is actually that of an open quantum system, where the quantum processing unit interacts with the environment.\n",
    "\n",
    "<img src=\"figures/open_system.svg\" alt=\"A quantum processor as an open quantum system\" style=\"width: 400px;\"/>\n",
    "\n",
    "The environment has a defined temperature and if we let the system equilibrate, the QPU becomes thermalized and the energy of the states will follow a Boltzmann distribution.\n",
    "\n",
    "When using quantum computers for optimization, we retain one sample out of the hundreds or thousands, and discard the rest. On the other hand, if we keep all of them and study their energy distribution, they actually approximate a Boltzmann distribution at some finite temperature: $P(E_i) = \\frac {e^{-E_{i}/T}}{\\sum _{j=1}^{M}{e^{-E_{j}/T}}}$. We can use this phenomenon for training certain machine learning models, as we will see later. In this notebook, we gain some more insight on preparing the thermal state by annealing and also by a variational circuit.\n",
    "\n",
    "# Quantum annealing\n",
    "\n",
    "Let us start by importing a handful of packages:"
   ]
  },
  {
   "cell_type": "code",
   "execution_count": 1,
   "metadata": {
    "ExecuteTime": {
     "end_time": "2018-11-15T17:13:04.179387Z",
     "start_time": "2018-11-15T17:13:03.965320Z"
    },
    "collapsed": true
   },
   "outputs": [],
   "source": [
    "import itertools\n",
    "import matplotlib.pyplot as plt\n",
    "import numpy as np\n",
    "import dimod\n",
    "%matplotlib inline"
   ]
  },
  {
   "cell_type": "markdown",
   "metadata": {},
   "source": [
    "We are interested in the thermal state of the classical Ising model. We create a random model over ten spins and we will sample a hundred states."
   ]
  },
  {
   "cell_type": "code",
   "execution_count": 2,
   "metadata": {
    "ExecuteTime": {
     "end_time": "2018-11-15T17:14:32.761621Z",
     "start_time": "2018-11-15T17:14:32.749022Z"
    },
    "collapsed": true
   },
   "outputs": [],
   "source": [
    "n_spins = 10\n",
    "n_samples = 1000\n",
    "h = {v: np.random.uniform(-2, 2) for v in range(n_spins)}\n",
    "J = {}\n",
    "for u, v in itertools.combinations(h, 2):\n",
    "    if np.random.random() < .05:\n",
    "        J[(u, v)] = np.random.uniform(-1, 1)\n",
    "model = dimod.BinaryQuadraticModel(h, J, 0.0, dimod.SPIN)\n",
    "sampler = dimod.SimulatedAnnealingSampler()        "
   ]
  },
  {
   "cell_type": "markdown",
   "metadata": {},
   "source": [
    "Let's sample the energies at different temperatures. The `dimod` implementation of simulated annealing allows us to set an initial and final temperature for the annealing. If we set it to the same value, we mimic the effect of a finite temperature and we will have a wider range of configurations and energy levels in the samples. The next cell can take a while to execute."
   ]
  },
  {
   "cell_type": "code",
   "execution_count": null,
   "metadata": {
    "ExecuteTime": {
     "end_time": "2018-11-15T17:15:06.720363Z",
     "start_time": "2018-11-15T17:14:34.538181Z"
    },
    "collapsed": true
   },
   "outputs": [],
   "source": [
    "temperature_0 = 1\n",
    "response = sampler.sample(model, beta_range=[1/temperature_0, 1/temperature_0], num_reads=n_samples)\n",
    "energies_0 = [solution.energy for solution in response.data()]\n",
    "temperature_1 = 10\n",
    "response = sampler.sample(model, beta_range=[1/temperature_1, 1/temperature_1], num_reads=n_samples)\n",
    "energies_1 = [solution.energy for solution in response.data()]\n",
    "temperature_2 = 100\n",
    "response = sampler.sample(model, beta_range=[1/temperature_2, 1/temperature_2], num_reads=n_samples)\n",
    "energies_2 = [solution.energy for solution in response.data()]"
   ]
  },
  {
   "cell_type": "markdown",
   "metadata": {},
   "source": [
    "We define a function to plot the resulting probability distribution."
   ]
  },
  {
   "cell_type": "code",
   "execution_count": null,
   "metadata": {
    "ExecuteTime": {
     "end_time": "2018-11-15T17:15:07.041952Z",
     "start_time": "2018-11-15T17:15:06.721934Z"
    }
   },
   "outputs": [],
   "source": [
    "def plot_probabilities(energy_samples, temperatures):\n",
    "    fig, ax = plt.subplots()\n",
    "    for i, (energies, T) in enumerate(zip(energy_samples, temperatures)):\n",
    "        probabilities = np.exp(-np.array(sorted(energies))/T)\n",
    "        Z = probabilities.sum()\n",
    "        probabilities /= Z\n",
    "        ax.plot(energies, probabilities, linewidth=3, label = \"$T_\" + str(i+1)+\"$\")\n",
    "    minimum_energy = min([min(energies) for energies in energy_samples])\n",
    "    maximum_energy = max([max(energies) for energies in energy_samples])\n",
    "    ax.set_xlim(minimum_energy, maximum_energy)\n",
    "    ax.set_xticks([])\n",
    "    ax.set_yticks([])\n",
    "    ax.set_xlabel('Energy')\n",
    "    ax.set_ylabel('Probability')\n",
    "    ax.legend()\n",
    "    plt.show()\n",
    "\n",
    "plot_probabilities([energies_0, energies_1, energies_2], \n",
    "                   [temperature_0, temperature_1, temperature_2])"
   ]
  },
  {
   "cell_type": "markdown",
   "metadata": {},
   "source": [
    "Just as we saw in the notebook on evolution in open systems, the distribution flattens out at a high temperature ($T_3$). On the other hand, the energy is peaked for a low temperature, and we do not even have samples for high-energy states."
   ]
  },
  {
   "cell_type": "markdown",
   "metadata": {},
   "source": [
    "# Quantum Approximate Thermalization\n",
    "\n",
    "There are many results for preparing a thermal state on a gate-model quantum computer, but most of them need a large-scale device. More recently, a protocol for approximating thermalization was developed using shallow circuits. The idea is that if we knew that the thermal state was a qubit $\\psi$ (which means $\\rho=|\\psi \\rangle \\langle \\psi |$), we could apply QAOA, starting from the ground state. The trick is to purify $\\rho$ on a larger Hilbert space. If we call $\\mathcal{H_1}$ our current Hilbert space, purifying a density matrix $\\rho$ consists of finding a second Hilbert space $\\mathcal{H_2}$ such that there exists $| \\psi \\rangle \\in \\mathcal{H_1} \\otimes \\mathcal{H_2}$ such that $\\rho = \\textrm{Tr}_{\\mathcal{H_2}} \\left( |\\psi \\rangle \\langle \\psi | \\right)$, where $\\textrm{Tr}_{\\mathcal{H_2}}$ is the partial trace taken over the second Hilbert space -- in essence, we are marginalizing the probability distribution. It can be shown that $| \\psi \\rangle =\\sqrt{2 \\cosh \\beta} \\sum_{z \\in {-1,1}} e^{-\\beta z} |z \\rangle_{\\mathcal{H_1}} \\otimes | z \\rangle_{\\mathcal{H_2}}$ purifies $\\rho=e^{-\\beta H_m}$ [[1](#1)]. This state can be built with a circuit composed uniquely of RX gates and CNOT gates"
   ]
  },
  {
   "cell_type": "code",
   "execution_count": 3,
   "metadata": {
    "ExecuteTime": {
     "end_time": "2018-11-15T17:25:17.626888Z",
     "start_time": "2018-11-15T17:25:16.664131Z"
    },
    "collapsed": true
   },
   "outputs": [],
   "source": [
    "import numpy as np\n",
    "\n",
    "from qiskit import QuantumRegister, QuantumCircuit, ClassicalRegister\n",
    "from qiskit.wrapper import execute as q_execute\n",
    "from qiskit.tools.qi.pauli import Pauli\n",
    "from qiskit.tools.apps.optimization import eval_hamiltonian \n",
    "from qiskit_aqua.operator import Operator\n",
    "from qiskit_aqua import get_initial_state_instance, get_algorithm_instance, get_optimizer_instance\n",
    "\n",
    "from qiskit import Aer\n",
    "from qiskit.tools.qi.qi import state_fidelity\n",
    "\n",
    "from scipy.optimize import minimize\n",
    "from functools import reduce\n",
    "import itertools\n",
    "\n",
    "np.set_printoptions(precision=2)\n"
   ]
  },
  {
   "cell_type": "code",
   "execution_count": 4,
   "metadata": {
    "ExecuteTime": {
     "end_time": "2018-11-15T17:25:49.356612Z",
     "start_time": "2018-11-15T17:25:49.351893Z"
    },
    "collapsed": true
   },
   "outputs": [],
   "source": [
    "n_qubits = 3\n",
    "n_system = n_qubits * 2 # for purification"
   ]
  },
  {
   "cell_type": "code",
   "execution_count": 5,
   "metadata": {
    "ExecuteTime": {
     "end_time": "2018-11-15T17:25:37.496239Z",
     "start_time": "2018-11-15T17:25:37.491737Z"
    },
    "collapsed": true
   },
   "outputs": [],
   "source": [
    "beta = 1 # inverse temperature"
   ]
  },
  {
   "cell_type": "code",
   "execution_count": 6,
   "metadata": {
    "ExecuteTime": {
     "end_time": "2018-11-15T17:26:07.099421Z",
     "start_time": "2018-11-15T17:26:07.094665Z"
    },
    "collapsed": true
   },
   "outputs": [],
   "source": [
    "weights = np.random.uniform(-1,1, size=(n_qubits, n_qubits))"
   ]
  },
  {
   "cell_type": "code",
   "execution_count": 7,
   "metadata": {
    "collapsed": true
   },
   "outputs": [],
   "source": [
    "p = 1 # QAOA parameter"
   ]
  },
  {
   "cell_type": "markdown",
   "metadata": {},
   "source": [
    "## Preparing the hamiltonians"
   ]
  },
  {
   "cell_type": "code",
   "execution_count": 8,
   "metadata": {
    "ExecuteTime": {
     "end_time": "2018-11-15T17:25:10.633422Z",
     "start_time": "2018-11-15T17:25:10.627189Z"
    },
    "collapsed": true
   },
   "outputs": [],
   "source": [
    "def pauli_z(qubit, coeff):\n",
    "    eye = np.eye((n_system))\n",
    "    return Operator([[coeff, Pauli(eye[qubit], np.zeros(n_system))]])\n",
    "\n",
    "def pauli_x(qubit, coeff):\n",
    "    eye = np.eye((n_system))\n",
    "    return Operator([[1, Pauli(np.zeros(n_system), eye[qubit])]])\n",
    "\n",
    "def product_pauli_z(q1, q2, coeff):\n",
    "    eye = np.eye((n_system))\n",
    "    return Operator([[coeff, Pauli(eye[q1], np.zeros(n_system)) * Pauli(eye[q2], np.zeros(n_system))]])"
   ]
  },
  {
   "cell_type": "code",
   "execution_count": 9,
   "metadata": {
    "ExecuteTime": {
     "end_time": "2018-11-15T17:26:24.137306Z",
     "start_time": "2018-11-15T17:26:24.127295Z"
    },
    "collapsed": true
   },
   "outputs": [],
   "source": [
    "def ising_hamiltonian(weights):\n",
    "    H = reduce(lambda x,y:x+y,\n",
    "            [product_pauli_z(i,j, -weights[i,j])\n",
    "             for (i,j) in itertools.product(range(n_qubits), range(n_qubits))])\n",
    "    H.to_matrix()\n",
    "    return H"
   ]
  },
  {
   "cell_type": "code",
   "execution_count": 10,
   "metadata": {
    "collapsed": true
   },
   "outputs": [],
   "source": [
    "Hc = ising_hamiltonian(weights)"
   ]
  },
  {
   "cell_type": "markdown",
   "metadata": {},
   "source": [
    "## Initial state preparation\n",
    "We prepare the intial state $|\\psi_0 \\rangle = \\sqrt{2 cosh(\\beta)} \\sum_{z \\in {1, -1}} e^{-\\beta z} | z \\rangle_S \\otimes | z \\rangle_E$, with $E$ a temporary space used for purification purpose. It can be shown that tracing out this state over $E$ reproduces the state $\\rho \\propto e^{-\\beta H_m} $"
   ]
  },
  {
   "cell_type": "code",
   "execution_count": 11,
   "metadata": {
    "collapsed": true
   },
   "outputs": [],
   "source": [
    "qr = QuantumRegister(n_qubits * 2)\n",
    "cr = ClassicalRegister(n_qubits)\n",
    "backend = Aer.get_backend('qasm_simulator')"
   ]
  },
  {
   "cell_type": "code",
   "execution_count": 12,
   "metadata": {
    "collapsed": true
   },
   "outputs": [],
   "source": [
    "circuit_init = QuantumCircuit(qr)\n",
    "\n",
    "alpha = 2 * np.arctan(np.exp(- beta / 2))\n",
    "for i in range(n_qubits):\n",
    "    circuit_init.rx(alpha, qr[n_qubits+i])\n",
    "    circuit_init.cx(qr[n_qubits+i], qr[i])"
   ]
  },
  {
   "cell_type": "markdown",
   "metadata": {},
   "source": [
    "## Useful functions"
   ]
  },
  {
   "cell_type": "code",
   "execution_count": 13,
   "metadata": {
    "ExecuteTime": {
     "end_time": "2018-11-15T17:25:23.953433Z",
     "start_time": "2018-11-15T17:25:23.947864Z"
    },
    "collapsed": true
   },
   "outputs": [],
   "source": [
    "from qiskit_aqua.algorithms.adaptive.qaoa import QAOA\n",
    "from qiskit_aqua.algorithms.adaptive.qaoa.varform import QAOAVarForm\n",
    "from qiskit import execute\n",
    "from qiskit import Aer"
   ]
  },
  {
   "cell_type": "markdown",
   "metadata": {},
   "source": [
    "The class `QAOAVarForm` takes an initial state as argument, which should be an object containing a method `construct_circuit` that builds and returns the initial state"
   ]
  },
  {
   "cell_type": "code",
   "execution_count": 14,
   "metadata": {
    "ExecuteTime": {
     "end_time": "2018-11-15T17:25:25.162378Z",
     "start_time": "2018-11-15T17:25:25.154866Z"
    },
    "collapsed": true
   },
   "outputs": [],
   "source": [
    "class InitialState:\n",
    "    def __init__(self, beta, n_qubits):\n",
    "        self.beta = beta\n",
    "        self.n_qubits = n_qubits\n",
    "    \n",
    "    def construct_circuit(self, mode, qr):\n",
    "        circuit_init = QuantumCircuit(qr)\n",
    "\n",
    "        alpha = 2 * np.arctan(np.exp(- self.beta / 2))\n",
    "        for i in range(n_qubits):\n",
    "            circuit_init.rx(alpha, qr[n_qubits+i])\n",
    "            circuit_init.cx(qr[n_qubits+i], qr[i])\n",
    "            \n",
    "        return circuit_init"
   ]
  },
  {
   "cell_type": "markdown",
   "metadata": {},
   "source": [
    "We need to overload the original QAOA class to be able pass it an initial state as a parameter"
   ]
  },
  {
   "cell_type": "code",
   "execution_count": 15,
   "metadata": {
    "ExecuteTime": {
     "end_time": "2018-11-15T17:25:25.858750Z",
     "start_time": "2018-11-15T17:25:25.849306Z"
    },
    "collapsed": true
   },
   "outputs": [],
   "source": [
    "class MyQAOA(QAOA):\n",
    "    def init_args(self, operator, operator_mode, p, optimizer, init_state=None, opt_init_point=None, aux_operators=[]):\n",
    "        \"\"\"\n",
    "        Args:\n",
    "            operator (Operator): Qubit operator\n",
    "            operator_mode (str): operator mode, used for eval of operator\n",
    "            p (int) : the integer parameter p as specified in https://arxiv.org/abs/1411.4028\n",
    "            optimizer (Optimizer) : the classical optimization algorithm.\n",
    "            opt_init_point (str) : optimizer initial point.\n",
    "        \"\"\"\n",
    "        var_form = QAOAVarForm(operator, p, init_state)\n",
    "        super(QAOA, self).init_args(operator, operator_mode, var_form, optimizer, opt_init_point=opt_init_point)"
   ]
  },
  {
   "cell_type": "code",
   "execution_count": 16,
   "metadata": {
    "collapsed": true
   },
   "outputs": [],
   "source": [
    "class MyQAOAVarForm(QAOAVarForm):\n",
    "    def construct_circuit(self, angles, quantum_register, classical_register):\n",
    "        if not len(angles) == self.num_parameters:\n",
    "            raise ValueError('Incorrect number of angles: expecting {}, but {} given.'.format(\n",
    "                self.num_parameters, len(angles)\n",
    "            ))\n",
    "        q = quantum_register\n",
    "        circuit = QuantumCircuit(quantum_register, classical_register)\n",
    "        if self._initial_state:\n",
    "            circuit += self._initial_state.construct_circuit('circuit', q)\n",
    "        else:\n",
    "            circuit.u2(0, np.pi, q)\n",
    "        for idx in range(self._p):\n",
    "            beta, gamma = angles[idx], angles[idx + self._p]\n",
    "            circuit += self._cost_operator.evolve(None, gamma, 'circuit', 1, quantum_registers=q)\n",
    "            circuit += self._mixer_operator.evolve(None, beta, 'circuit', 1, quantum_registers=q)\n",
    "        return circuit"
   ]
  },
  {
   "cell_type": "code",
   "execution_count": 17,
   "metadata": {
    "ExecuteTime": {
     "end_time": "2018-11-15T17:25:55.218406Z",
     "start_time": "2018-11-15T17:25:55.214681Z"
    },
    "collapsed": true
   },
   "outputs": [],
   "source": [
    "initial_state = InitialState(beta, n_qubits)"
   ]
  },
  {
   "cell_type": "code",
   "execution_count": 18,
   "metadata": {
    "ExecuteTime": {
     "end_time": "2018-11-15T17:26:53.267887Z",
     "start_time": "2018-11-15T17:26:53.254729Z"
    },
    "collapsed": true
   },
   "outputs": [],
   "source": [
    "def get_thermal_state(weights, p):\n",
    "    Hc = ising_hamiltonian(weights)\n",
    "    print(\"Begin QAOA...\")\n",
    "    \n",
    "    qaoa = MyQAOA()\n",
    "    qaoa.setup_quantum_backend(shots=100)\n",
    "    optimizer = get_optimizer_instance('COBYLA')\n",
    "    qaoa.init_args(Hc, \"matrix\", p, optimizer, initial_state)\n",
    "    result = qaoa.run()\n",
    "    \n",
    "    print(\"Results of QAOA\", result)\n",
    "    \n",
    "    return result"
   ]
  },
  {
   "cell_type": "code",
   "execution_count": 19,
   "metadata": {
    "ExecuteTime": {
     "start_time": "2018-11-15T17:26:53.806Z"
    },
    "scrolled": true
   },
   "outputs": [
    {
     "name": "stdout",
     "output_type": "stream",
     "text": [
      "Begin QAOA...\n",
      "Results of QAOA {'eigvals': array([0.07]), 'opt_params': array([1.00e-04, 1.12e+00]), 'eigvecs': array([[ 6.25e-01+3.75e-04j, -3.65e-06-2.48e-05j,  2.77e-05-3.65e-05j,\n",
      "        -1.91e-09-1.31e-09j,  3.35e-05-8.03e-05j, -5.94e-09-4.56e-09j,\n",
      "        -5.21e-09-8.40e-09j, -9.92e-13+5.14e-13j, -3.65e-06-2.48e-05j,\n",
      "        -3.77e-01-3.69e-02j, -1.91e-09-1.31e-09j, -1.45e-05+1.74e-05j,\n",
      "        -5.94e-09-4.56e-09j,  1.21e-05+2.10e-05j, -9.92e-13+5.14e-13j,\n",
      "         7.00e-11-1.52e-09j,  2.77e-05-3.65e-05j, -1.91e-09-1.31e-09j,\n",
      "        -2.60e-01+2.76e-01j,  1.68e-05+5.68e-06j, -5.21e-09-8.40e-09j,\n",
      "        -9.92e-13+5.14e-13j,  5.05e-05+2.82e-05j,  7.93e-10-5.36e-09j,\n",
      "        -1.91e-09-1.31e-09j, -1.45e-05+1.74e-05j,  1.68e-05+5.68e-06j,\n",
      "         2.03e-01-1.08e-01j, -9.92e-13+5.14e-13j,  7.00e-11-1.52e-09j,\n",
      "         7.93e-10-5.36e-09j,  3.13e-06-2.03e-05j,  3.35e-05-8.03e-05j,\n",
      "        -5.94e-09-4.56e-09j, -5.21e-09-8.40e-09j, -9.92e-13+5.14e-13j,\n",
      "         1.78e-01+3.35e-01j,  4.92e-05-3.46e-05j,  5.63e-05-1.56e-05j,\n",
      "        -3.23e-09-8.60e-09j, -5.94e-09-4.56e-09j,  1.21e-05+2.10e-05j,\n",
      "        -9.92e-13+5.14e-13j,  7.00e-11-1.52e-09j,  4.92e-05-3.46e-05j,\n",
      "         1.67e-01+1.58e-01j, -3.23e-09-8.60e-09j,  2.97e-05-1.67e-05j,\n",
      "        -5.21e-09-8.40e-09j, -9.92e-13+5.14e-13j,  5.05e-05+2.82e-05j,\n",
      "         7.93e-10-5.36e-09j,  5.63e-05-1.56e-05j, -3.23e-09-8.60e-09j,\n",
      "        -2.24e-02+2.29e-01j,  3.68e-05+2.25e-06j, -9.92e-13+5.14e-13j,\n",
      "         7.00e-11-1.52e-09j,  7.93e-10-5.36e-09j,  3.13e-06-2.03e-05j,\n",
      "        -3.23e-09-8.60e-09j,  2.97e-05-1.67e-05j,  3.68e-05+2.25e-06j,\n",
      "        -8.37e-05+1.39e-01j]]), 'energy': 0.07209605589408921, 'eval_count': 27, 'eval_time': 269.5842809677124}\n"
     ]
    }
   ],
   "source": [
    "result = get_thermal_state(weights, 1)"
   ]
  },
  {
   "cell_type": "code",
   "execution_count": 20,
   "metadata": {
    "collapsed": true
   },
   "outputs": [],
   "source": [
    "var_form = MyQAOAVarForm(Hc, p, initial_state)"
   ]
  },
  {
   "cell_type": "code",
   "execution_count": 21,
   "metadata": {},
   "outputs": [],
   "source": [
    "thermal_state = var_form.construct_circuit([0.1,2.5], qr, cr)"
   ]
  },
  {
   "cell_type": "code",
   "execution_count": 22,
   "metadata": {},
   "outputs": [
    {
     "data": {
      "text/plain": [
       "OrderedDict([('q0', QuantumRegister(6, 'q0'))])"
      ]
     },
     "execution_count": 22,
     "metadata": {},
     "output_type": "execute_result"
    }
   ],
   "source": [
    "thermal_state.get_qregs()"
   ]
  },
  {
   "cell_type": "code",
   "execution_count": null,
   "metadata": {},
   "outputs": [],
   "source": [
    "for i in range(n_qubits):\n",
    "    thermal_state.measure(qr[i], cr[i])"
   ]
  },
  {
   "cell_type": "code",
   "execution_count": null,
   "metadata": {},
   "outputs": [],
   "source": [
    "job = execute(thermal_state, backend, shots=100)\n",
    "results = job.result().get_counts(thermal_state)\n",
    "results"
   ]
  },
  {
   "cell_type": "markdown",
   "metadata": {},
   "source": [
    "## Plot the energy histogram"
   ]
  },
  {
   "cell_type": "code",
   "execution_count": null,
   "metadata": {
    "collapsed": true
   },
   "outputs": [],
   "source": [
    "def get_energy(spin_configuration):\n",
    "    x = spin_configuration.reshape(-1, 1)\n",
    "    return spin_configuration.T.dot(weights).dot(spin_configuration)"
   ]
  },
  {
   "cell_type": "code",
   "execution_count": null,
   "metadata": {
    "collapsed": true
   },
   "outputs": [],
   "source": [
    "list_spin_configs = np.array(np.concatenate([[list(spin_config)] * results[spin_config] for spin_config in results]), dtype=\"int\")"
   ]
  },
  {
   "cell_type": "code",
   "execution_count": null,
   "metadata": {},
   "outputs": [],
   "source": [
    "list_energy = [get_energy(str_to_array(spin_config)) for spin_config in list_spin_configs]"
   ]
  },
  {
   "cell_type": "code",
   "execution_count": null,
   "metadata": {},
   "outputs": [],
   "source": [
    "def get_probability(energy, Z=1):\n",
    "    return np.exp(- beta * energy) / Z"
   ]
  },
  {
   "cell_type": "code",
   "execution_count": null,
   "metadata": {},
   "outputs": [],
   "source": [
    "list_proba = [get_probability(energy) for energy in list_energy]"
   ]
  },
  {
   "cell_type": "code",
   "execution_count": null,
   "metadata": {},
   "outputs": [],
   "source": [
    "plt.hist(list_energy)"
   ]
  },
  {
   "cell_type": "markdown",
   "metadata": {
    "collapsed": true
   },
   "source": [
    "# References\n",
    "\n",
    "[1] Verdon, G., Broughton, M., Biamonte, J. (2017) [A quantum algorithm to train neural networks using low-depth circuits](https://arxiv.org/abs/1712.05304). *arXiv:1712.05304*. <a id='1'></a>"
   ]
  }
 ],
 "metadata": {
  "kernelspec": {
   "display_name": "Python [conda env:qiskit]",
   "language": "python",
   "name": "conda-env-qiskit-py"
  },
  "language_info": {
   "codemirror_mode": {
    "name": "ipython",
    "version": 3
   },
   "file_extension": ".py",
   "mimetype": "text/x-python",
   "name": "python",
   "nbconvert_exporter": "python",
   "pygments_lexer": "ipython3",
   "version": "3.7.0"
  }
 },
 "nbformat": 4,
 "nbformat_minor": 2
}
