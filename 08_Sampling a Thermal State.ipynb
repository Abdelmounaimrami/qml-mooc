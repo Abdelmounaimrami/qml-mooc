{
 "cells": [
  {
   "cell_type": "markdown",
   "metadata": {
    "collapsed": true
   },
   "source": [
    "In a previous notebook, we sought the ground state of many-body systems, and connected this problem to binary optimization computer science. As we have seen, this connection is useful to understand for adiabatic quantum computing and variational algorithms.\n",
    "\n",
    "However, we also talked about the engineering constraints we face in real devices: the evolution in these devices is actually that of an open quantum system, where the quantum processing unit interacts with the environment.\n",
    "\n",
    "<img src=\"figures/open_system.svg\" alt=\"A quantum processor as an open quantum system\" style=\"width: 400px;\"/>\n",
    "\n",
    "The environment has a defined temperature and if we let the system equilibrate, the QPU becomes thermalized, so sampling it we obtain the Boltzmann distribution.\n",
    "\n",
    "If we optimize on a quantum computer, we retain one sample from the hundreds or thousands, and discard the rest. On the other hand, if we keep all of them and study their energy distribution, they actually approximate a Boltzmann distribution at some finite temperature: $P(E_i) = \\frac {e^{-E_{i}/T}}{\\sum _{j=1}^{M}{e^{-E_{j}/T}}}$. We can use this phenomenon for training certain machine learning models, as we will see later. In this notebook, we gain some more insight on preparing the thermal state by annealing and also by a variational circuit.\n",
    "\n",
    "# Quantum annealing\n",
    "\n",
    "Let us start by importing a handful of packages:"
   ]
  },
  {
   "cell_type": "code",
   "execution_count": 1,
   "metadata": {
    "ExecuteTime": {
     "end_time": "2018-11-15T17:13:04.179387Z",
     "start_time": "2018-11-15T17:13:03.965320Z"
    }
   },
   "outputs": [],
   "source": [
    "import itertools\n",
    "import matplotlib.pyplot as plt\n",
    "import numpy as np\n",
    "import dimod\n",
    "%matplotlib inline"
   ]
  },
  {
   "cell_type": "markdown",
   "metadata": {},
   "source": [
    "We are interested in the thermal state of the classical Ising model. We create a random model over ten spins and we will sample a hundred states."
   ]
  },
  {
   "cell_type": "code",
   "execution_count": 3,
   "metadata": {
    "ExecuteTime": {
     "end_time": "2018-11-15T17:14:32.761621Z",
     "start_time": "2018-11-15T17:14:32.749022Z"
    }
   },
   "outputs": [],
   "source": [
    "n_spins = 10\n",
    "n_samples = 1000\n",
    "h = {v: np.random.uniform(-2, 2) for v in range(n_spins)}\n",
    "J = {}\n",
    "for u, v in itertools.combinations(h, 2):\n",
    "    if np.random.random() < .05:\n",
    "        J[(u, v)] = np.random.uniform(-1, 1)\n",
    "model = dimod.BinaryQuadraticModel(h, J, 0.0, dimod.SPIN)\n",
    "sampler = dimod.SimulatedAnnealingSampler()        "
   ]
  },
  {
   "cell_type": "markdown",
   "metadata": {},
   "source": [
    "Let's sample the energies at different temperatures. The `dimod` implementation of simulated annealing allows us to set an initial and final temperature for the annealing. If we set it to the same value, we mimic the effect of a finite temperature and we will have a wider range of configurations and energy levels in the samples. The next cell can take a while to execute."
   ]
  },
  {
   "cell_type": "code",
   "execution_count": 4,
   "metadata": {
    "ExecuteTime": {
     "end_time": "2018-11-15T17:15:06.720363Z",
     "start_time": "2018-11-15T17:14:34.538181Z"
    }
   },
   "outputs": [],
   "source": [
    "temperature_0 = 1\n",
    "response = sampler.sample(model, beta_range=[1/temperature_0, 1/temperature_0], num_reads=n_samples)\n",
    "energies_0 = [solution.energy for solution in response.data()]\n",
    "temperature_1 = 10\n",
    "response = sampler.sample(model, beta_range=[1/temperature_1, 1/temperature_1], num_reads=n_samples)\n",
    "energies_1 = [solution.energy for solution in response.data()]\n",
    "temperature_2 = 100\n",
    "response = sampler.sample(model, beta_range=[1/temperature_2, 1/temperature_2], num_reads=n_samples)\n",
    "energies_2 = [solution.energy for solution in response.data()]"
   ]
  },
  {
   "cell_type": "markdown",
   "metadata": {},
   "source": [
    "We define a function to plot the resulting probability distribution."
   ]
  },
  {
   "cell_type": "code",
   "execution_count": 5,
   "metadata": {
    "ExecuteTime": {
     "end_time": "2018-11-15T17:15:07.041952Z",
     "start_time": "2018-11-15T17:15:06.721934Z"
    }
   },
   "outputs": [
    {
     "data": {
      "image/png": "[encoded data removed]",
      "text/plain": [
       "<Figure size 432x288 with 1 Axes>"
      ]
     },
     "metadata": {},
     "output_type": "display_data"
    }
   ],
   "source": [
    "def plot_probabilities(energy_samples, temperatures):\n",
    "    fig, ax = plt.subplots()\n",
    "    for i, (energies, T) in enumerate(zip(energy_samples, temperatures)):\n",
    "        probabilities = np.exp(-np.array(sorted(energies))/T)\n",
    "        Z = probabilities.sum()\n",
    "        probabilities /= Z\n",
    "        ax.plot(energies, probabilities, linewidth=3, label = \"$T_\" + str(i+1)+\"$\")\n",
    "    minimum_energy = min([min(energies) for energies in energy_samples])\n",
    "    maximum_energy = max([max(energies) for energies in energy_samples])\n",
    "    ax.set_xlim(minimum_energy, maximum_energy)\n",
    "    ax.set_xticks([])\n",
    "    ax.set_yticks([])\n",
    "    ax.set_xlabel('Energy')\n",
    "    ax.set_ylabel('Probability')\n",
    "    ax.legend()\n",
    "    plt.show()\n",
    "\n",
    "plot_probabilities([energies_0, energies_1, energies_2], \n",
    "                   [temperature_0, temperature_1, temperature_2])"
   ]
  },
  {
   "cell_type": "markdown",
   "metadata": {},
   "source": [
    "Just as we saw in the notebook on evolution in open systems, the distribution flattens out at a high temperature ($T_3$). On the other hand, the energy is peaked for a low temperature, and we do not even have samples for high-energy states."
   ]
  },
  {
   "cell_type": "markdown",
   "metadata": {},
   "source": [
    "# Quantum Approximate Thermalization\n",
    "\n",
    "There are many results for preparing a thermal state on a gate-model quantum computer, but most of them need a large-scale device. More recently, a protocol for approximating thermalization was developed using shallow circuits. The idea is that if we knew that the thermal state was a qubit $\\psi$ (which means $\\rho=|\\psi \\rangle \\langle \\psi |$), we could apply QAOA, starting from the ground state. The trick is to purify $\\rho$ on a larger Hilbert space. If we call $\\mathcal{H_1}$ our current Hilbert space, purifying a density matrix $\\rho$ consists of finding a second Hilbert space $\\mathcal{H_2}$ such that there exists $| \\psi \\rangle \\in \\mathcal{H_1} \\otimes \\mathcal{H_2}$ such that $\\rho = \\textrm{Tr}_{\\mathcal{H_2}} \\left( |\\psi \\rangle \\langle \\psi | \\right)$, where $\\textrm{Tr}_{\\mathcal{H_2}}$ is the partial trace taken over the second Hilbert space -- in essence, we are marginalizing the probability distribution. It can be shown that $| \\psi \\rangle =\\sqrt{2 \\cosh \\beta} \\sum_{z \\in {-1,1}} e^{-\\beta z} |z \\rangle_{\\mathcal{H_1}} \\otimes | z \\rangle_{\\mathcal{H_2}}$ purifies $\\rho=e^{-\\beta H_m}$ [[1](#1)]. This state can be built with a circuit composed uniquely of RX gates and CNOT gates"
   ]
  },
  {
   "cell_type": "code",
   "execution_count": 7,
   "metadata": {
    "ExecuteTime": {
     "end_time": "2018-11-15T17:25:17.626888Z",
     "start_time": "2018-11-15T17:25:16.664131Z"
    }
   },
   "outputs": [],
   "source": [
    "import numpy as np\n",
    "\n",
    "from qiskit import QuantumRegister, QuantumCircuit, ClassicalRegister\n",
    "from qiskit.wrapper import execute as q_execute\n",
    "from qiskit.tools.qi.pauli import Pauli\n",
    "from qiskit.tools.apps.optimization import eval_hamiltonian \n",
    "from qiskit_aqua.operator import Operator\n",
    "from qiskit_aqua import get_initial_state_instance, get_algorithm_instance, get_optimizer_instance\n",
    "\n",
    "from qiskit import Aer\n",
    "from qiskit.tools.qi.qi import state_fidelity\n",
    "\n",
    "from scipy.optimize import minimize\n",
    "from functools import reduce\n",
    "import itertools\n",
    "\n",
    "np.set_printoptions(precision=2)\n"
   ]
  },
  {
   "cell_type": "markdown",
   "metadata": {},
   "source": [
    "We will use a circuit with $n_{visible} + n_{hidden}$ qubits, where the first $n_{visible}$ qubits represent the visible nodes and the $n_{hidden}$ last qubits represent the hidden nodes."
   ]
  },
  {
   "cell_type": "code",
   "execution_count": 14,
   "metadata": {
    "ExecuteTime": {
     "end_time": "2018-11-15T17:25:49.356612Z",
     "start_time": "2018-11-15T17:25:49.351893Z"
    }
   },
   "outputs": [],
   "source": [
    "n_qubits = 3"
   ]
  },
  {
   "cell_type": "code",
   "execution_count": 12,
   "metadata": {
    "ExecuteTime": {
     "end_time": "2018-11-15T17:25:37.496239Z",
     "start_time": "2018-11-15T17:25:37.491737Z"
    }
   },
   "outputs": [],
   "source": [
    "beta = 1 # inverse temperature"
   ]
  },
  {
   "cell_type": "markdown",
   "metadata": {},
   "source": [
    "We initialize the weights with a Gaussian distribution of variance $\\frac{2}{n_{hidden} + n_{visible}}$ (the so-called [Xavier initialization](http://andyljones.tumblr.com/post/110998971763/an-explanation-of-xavier-initialization), that guarantees good properties)"
   ]
  },
  {
   "cell_type": "code",
   "execution_count": 18,
   "metadata": {
    "ExecuteTime": {
     "end_time": "2018-11-15T17:26:07.099421Z",
     "start_time": "2018-11-15T17:26:07.094665Z"
    }
   },
   "outputs": [],
   "source": [
    "weights_init = np.random.normal(0, 2 / (n_qubits), size=(n_visible, n_hidden))"
   ]
  },
  {
   "cell_type": "code",
   "execution_count": 5,
   "metadata": {
    "collapsed": true
   },
   "outputs": [],
   "source": [
    "p = 1"
   ]
  },
  {
   "cell_type": "markdown",
   "metadata": {},
   "source": [
    "## Preparing the hamiltonians"
   ]
  },
  {
   "cell_type": "code",
   "execution_count": 6,
   "metadata": {
    "ExecuteTime": {
     "end_time": "2018-11-15T17:25:10.633422Z",
     "start_time": "2018-11-15T17:25:10.627189Z"
    }
   },
   "outputs": [],
   "source": [
    "def pauli_z(qubit, coeff):\n",
    "    eye = np.eye((n_system))\n",
    "    return Operator([[coeff, Pauli(eye[qubit], np.zeros(n_system))]])\n",
    "\n",
    "def pauli_x(qubit, coeff):\n",
    "    eye = np.eye((n_system))\n",
    "    return Operator([[1, Pauli(np.zeros(n_system), eye[qubit])]])\n",
    "\n",
    "def product_pauli_z(q1, q2, coeff):\n",
    "    eye = np.eye((n_system))\n",
    "    return Operator([[coeff, Pauli(eye[q1], np.zeros(n_system)) * Pauli(eye[q2], np.zeros(n_system))]])"
   ]
  },
  {
   "cell_type": "code",
   "execution_count": 20,
   "metadata": {
    "ExecuteTime": {
     "end_time": "2018-11-15T17:26:24.137306Z",
     "start_time": "2018-11-15T17:26:24.127295Z"
    }
   },
   "outputs": [],
   "source": [
    "def ising_hamiltonian(weights):\n",
    "    H = reduce(lambda x,y:x+y,\n",
    "            [product_pauli_z(i,n_visible + j, -weights[i,j]) # J[i,j] as a first parameter\n",
    "             for i,j in itertools.product(range(n_visible), range(n_hidden))])\n",
    "    H.to_matrix()\n",
    "    return H"
   ]
  },
  {
   "cell_type": "markdown",
   "metadata": {},
   "source": [
    "## Initial state preparation\n",
    "We prepare the intial state $|\\psi_0 \\rangle = \\sqrt{2 cosh(\\beta)} \\sum_{z \\in {1, -1}} e^{-\\beta z} | z \\rangle_S \\otimes | z \\rangle_E$, with $E$ a temporary space used for purification purpose. It can be shown that tracing out this state over $E$ reproduces the state $\\rho \\propto e^{-\\beta H_m} $"
   ]
  },
  {
   "cell_type": "code",
   "execution_count": 11,
   "metadata": {
    "collapsed": true
   },
   "outputs": [],
   "source": [
    "qr = QuantumRegister(n_qubits * 2)"
   ]
  },
  {
   "cell_type": "code",
   "execution_count": 12,
   "metadata": {
    "collapsed": true
   },
   "outputs": [],
   "source": [
    "circuit_init = QuantumCircuit(qr)\n",
    "\n",
    "alpha = 2 * np.arctan(np.exp(- beta / 2))\n",
    "for i in range(n_qubits):\n",
    "    circuit_init.rx(alpha, qr[n_qubits+i])\n",
    "    circuit_init.cx(qr[n_qubits+i], qr[i])"
   ]
  },
  {
   "cell_type": "markdown",
   "metadata": {},
   "source": [
    "## Useful functions"
   ]
  },
  {
   "cell_type": "code",
   "execution_count": 8,
   "metadata": {
    "ExecuteTime": {
     "end_time": "2018-11-15T17:25:23.953433Z",
     "start_time": "2018-11-15T17:25:23.947864Z"
    }
   },
   "outputs": [],
   "source": [
    "from qiskit_aqua.algorithms.adaptive.qaoa import QAOA\n",
    "from qiskit_aqua.algorithms.adaptive.qaoa.varform import QAOAVarForm"
   ]
  },
  {
   "cell_type": "code",
   "execution_count": 9,
   "metadata": {
    "ExecuteTime": {
     "end_time": "2018-11-15T17:25:25.162378Z",
     "start_time": "2018-11-15T17:25:25.154866Z"
    }
   },
   "outputs": [],
   "source": [
    "class InitialState:\n",
    "    def __init__(self, beta, n_qubits):\n",
    "        self.beta = beta\n",
    "        self.n_qubits = n_qubits\n",
    "    \n",
    "    def construct_circuit(self, mode, qr):\n",
    "        circuit_init = QuantumCircuit(qr)\n",
    "\n",
    "        alpha = 2 * np.arctan(np.exp(- self.beta / 2))\n",
    "        for i in range(n_qubits):\n",
    "            circuit_init.rx(alpha, qr[n_qubits+i])\n",
    "            circuit_init.cx(qr[n_qubits+i], qr[i])\n",
    "            \n",
    "        return circuit_init"
   ]
  },
  {
   "cell_type": "code",
   "execution_count": 10,
   "metadata": {
    "ExecuteTime": {
     "end_time": "2018-11-15T17:25:25.858750Z",
     "start_time": "2018-11-15T17:25:25.849306Z"
    }
   },
   "outputs": [],
   "source": [
    "class MyQAOA(QAOA):\n",
    "    def init_args(self, operator, operator_mode, p, optimizer, init_state=None, opt_init_point=None, aux_operators=[]):\n",
    "        \"\"\"\n",
    "        Args:\n",
    "            operator (Operator): Qubit operator\n",
    "            operator_mode (str): operator mode, used for eval of operator\n",
    "            p (int) : the integer parameter p as specified in https://arxiv.org/abs/1411.4028\n",
    "            optimizer (Optimizer) : the classical optimization algorithm.\n",
    "            opt_init_point (str) : optimizer initial point.\n",
    "        \"\"\"\n",
    "        var_form = QAOAVarForm(operator, p, init_state)\n",
    "        super(QAOA, self).init_args(operator, operator_mode, var_form, optimizer, opt_init_point=opt_init_point)"
   ]
  },
  {
   "cell_type": "code",
   "execution_count": 15,
   "metadata": {
    "ExecuteTime": {
     "end_time": "2018-11-15T17:25:55.218406Z",
     "start_time": "2018-11-15T17:25:55.214681Z"
    }
   },
   "outputs": [],
   "source": [
    "initial_state = InitialState(beta, n_qubits)"
   ]
  },
  {
   "cell_type": "code",
   "execution_count": 23,
   "metadata": {
    "ExecuteTime": {
     "end_time": "2018-11-15T17:26:53.267887Z",
     "start_time": "2018-11-15T17:26:53.254729Z"
    }
   },
   "outputs": [],
   "source": [
    "def get_thermal_state(weights, p):\n",
    "    Hc = ising_hamiltonian(weights)\n",
    "    print(\"Begin QAOA...\")\n",
    "    \n",
    "    qaoa = MyQAOA()\n",
    "    qaoa.setup_quantum_backend(shots=100)\n",
    "    optimizer = get_optimizer_instance('COBYLA')\n",
    "    qaoa.init_args(Hc, \"matrix\", p, optimizer, initial_state)\n",
    "    result = qaoa.run()\n",
    "    \n",
    "    print(\"Results of QAOA\", result)\n",
    "    \n",
    "    return result"
   ]
  },
  {
   "cell_type": "code",
   "execution_count": null,
   "metadata": {
    "ExecuteTime": {
     "start_time": "2018-11-15T17:26:53.806Z"
    },
    "scrolled": true
   },
   "outputs": [
    {
     "name": "stdout",
     "output_type": "stream",
     "text": [
      "Begin QAOA...\n"
     ]
    }
   ],
   "source": [
    "get_thermal_state(weights_init, 1)"
   ]
  },
  {
   "cell_type": "code",
   "execution_count": 17,
   "metadata": {
    "collapsed": true
   },
   "outputs": [],
   "source": [
    "n_samples = 10\n",
    "list_weights = [np.random.normal(0, 2 / (n_hidden + n_visible), size=(n_visible, n_hidden)) \n",
    "                for i in range(n_samples)]"
   ]
  },
  {
   "cell_type": "code",
   "execution_count": null,
   "metadata": {
    "collapsed": true
   },
   "outputs": [],
   "source": [
    "list_energy = []\n",
    "for weights in list_weights:\n",
    "    list_energy.append(get_thermalized_state(weights))"
   ]
  },
  {
   "cell_type": "markdown",
   "metadata": {
    "collapsed": true
   },
   "source": [
    "# References\n",
    "\n",
    "[1] Verdon, G., Broughton, M., Biamonte, J. (2017) [A quantum algorithm to train neural networks using low-depth circuits](https://arxiv.org/abs/1712.05304). *arXiv:1712.05304*. <a id='1'></a>"
   ]
  }
 ],
 "metadata": {
  "kernelspec": {
   "display_name": "Python 3",
   "language": "python",
   "name": "python3"
  },
  "language_info": {
   "codemirror_mode": {
    "name": "ipython",
    "version": 3
   },
   "file_extension": ".py",
   "mimetype": "text/x-python",
   "name": "python",
   "nbconvert_exporter": "python",
   "pygments_lexer": "ipython3",
   "version": "3.7.0"
  }
 },
 "nbformat": 4,
 "nbformat_minor": 2
}
