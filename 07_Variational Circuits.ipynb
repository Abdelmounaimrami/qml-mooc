{
 "cells": [
  {
   "cell_type": "markdown",
   "metadata": {},
   "source": [
    "# Shallow Circuits and the Variational Principle"
   ]
  },
  {
   "cell_type": "code",
   "execution_count": 1,
   "metadata": {
    "collapsed": true
   },
   "outputs": [],
   "source": [
    "import numpy as np\n",
    "import matplotlib.pyplot as plt\n",
    "%matplotlib inline\n",
    "\n",
    "%load_ext autoreload\n",
    "%autoreload 2"
   ]
  },
  {
   "cell_type": "markdown",
   "metadata": {},
   "source": [
    "# Quantum Approximate Optimization Algorithm\n",
    "\n",
    "Approximating the adiabatic pathway"
   ]
  },
  {
   "cell_type": "code",
   "execution_count": null,
   "metadata": {
    "collapsed": true
   },
   "outputs": [],
   "source": []
  },
  {
   "cell_type": "markdown",
   "metadata": {},
   "source": [
    "Resolution"
   ]
  },
  {
   "cell_type": "code",
   "execution_count": null,
   "metadata": {
    "collapsed": true
   },
   "outputs": [],
   "source": []
  },
  {
   "cell_type": "markdown",
   "metadata": {},
   "source": [
    "Overlap with the ground state"
   ]
  },
  {
   "cell_type": "code",
   "execution_count": null,
   "metadata": {
    "collapsed": true
   },
   "outputs": [],
   "source": []
  },
  {
   "cell_type": "markdown",
   "metadata": {},
   "source": [
    "## Code"
   ]
  },
  {
   "cell_type": "code",
   "execution_count": 2,
   "metadata": {},
   "outputs": [],
   "source": [
    "from qiskit import QuantumRegister, QuantumCircuit, ClassicalRegister\n",
    "from qiskit.wrapper import execute as q_execute\n",
    "from qiskit.tools.qi.pauli import Pauli\n",
    "from qiskit.tools.apps.optimization import eval_hamiltonian \n",
    "from qiskit_aqua.operator import Operator\n",
    "from qiskit_aqua import get_initial_state_instance\n",
    "from qiskit import Aer\n",
    "from qiskit.tools.qi.qi import state_fidelity\n",
    "\n",
    "from scipy.optimize import minimize\n",
    "from functools import reduce\n",
    "import itertools\n",
    "\n",
    "np.set_printoptions(precision=2)"
   ]
  },
  {
   "cell_type": "markdown",
   "metadata": {},
   "source": [
    "### Parameters"
   ]
  },
  {
   "cell_type": "markdown",
   "metadata": {},
   "source": [
    "#### Defintion of the problem"
   ]
  },
  {
   "cell_type": "markdown",
   "metadata": {},
   "source": [
    "As a toy example, we will try to minimize the simple ising problem defined by the hamiltonian $H=-\\sigma^Z_1 \\otimes \\sigma^Z_2$."
   ]
  },
  {
   "cell_type": "code",
   "execution_count": 3,
   "metadata": {
    "collapsed": true
   },
   "outputs": [],
   "source": [
    "n_qubits = 2 # size of the system (= number of nodes in the graph)\n",
    "J = np.array([[0,1],[0,0]]) # coefficients J_{i,j} in the Ising Model (= adjacency matrix of the graph)"
   ]
  },
  {
   "cell_type": "markdown",
   "metadata": {},
   "source": [
    "#### Optimization parameters"
   ]
  },
  {
   "cell_type": "code",
   "execution_count": 4,
   "metadata": {
    "collapsed": true
   },
   "outputs": [],
   "source": [
    "n_iter = 10 # number of iterations of the optimization procedure\n",
    "n_beta_gamma = 2 # number of times we apply U(beta)U(gamma) to the initial state\n",
    "beta = np.random.uniform(0, np.pi*2, n_beta_gamma) # initial beta values\n",
    "gamma = np.random.uniform(0, np.pi*2, n_beta_gamma) # initial gamma values"
   ]
  },
  {
   "cell_type": "markdown",
   "metadata": {},
   "source": [
    "### Preparing the hamiltonians"
   ]
  },
  {
   "cell_type": "markdown",
   "metadata": {},
   "source": [
    "The three functions below return Operators, a class in Aqua that allows among other things \"evaluation\" (computation of the mean value of the operator) and \"evolution\" (exponentiation of the operator)"
   ]
  },
  {
   "cell_type": "code",
   "execution_count": 5,
   "metadata": {
    "collapsed": true
   },
   "outputs": [],
   "source": [
    "def pauli_z(qubit, coeff):\n",
    "    eye = np.eye((n_qubits))\n",
    "    return Operator([[coeff, Pauli(eye[qubit], np.zeros(n_qubits))]])\n",
    "\n",
    "def pauli_x(qubit, coeff):\n",
    "    eye = np.eye((n_qubits))\n",
    "    return Operator([[1, Pauli(np.zeros(n_qubits), eye[qubit])]])\n",
    "\n",
    "def product_pauli_z(q1, q2, coeff):\n",
    "    eye = np.eye((n_qubits))\n",
    "    return Operator([[coeff, Pauli(eye[q1], np.zeros(n_qubits)) * Pauli(eye[q2], np.zeros(n_qubits))]])"
   ]
  },
  {
   "cell_type": "markdown",
   "metadata": {},
   "source": [
    "#### Mixer Hamiltonian\n",
    "Reference hamiltonian defined by $H_m = \\sum_i^n \\sigma^X_i$"
   ]
  },
  {
   "cell_type": "markdown",
   "metadata": {},
   "source": [
    "In Aqua, Operators can be added with as simple `+` between them. However, the Python function `sum` doesn't work and need to be rewritten using `reduce`"
   ]
  },
  {
   "cell_type": "code",
   "execution_count": 6,
   "metadata": {},
   "outputs": [],
   "source": [
    "Hm = reduce(lambda x,y:x+y,\n",
    "            [pauli_x(i, 1) \n",
    "             for i in range(n_qubits)])\n",
    "Hm.to_matrix()"
   ]
  },
  {
   "cell_type": "markdown",
   "metadata": {},
   "source": [
    "#### Cost Hamiltonian\n",
    "Cost hamiltonian defined by $H_c=-\\sum_i^n J_{ij} \\sigma^Z_i \\otimes \\sigma^Z_j$"
   ]
  },
  {
   "cell_type": "code",
   "execution_count": 7,
   "metadata": {},
   "outputs": [],
   "source": [
    "Hc = reduce(lambda x,y:x+y,\n",
    "            [product_pauli_z(i,j, -J[i,j]) # J[i,j] as a first parameter\n",
    "             for i,j in itertools.product(range(n_qubits), repeat=2)])\n",
    "Hc.to_matrix()"
   ]
  },
  {
   "cell_type": "markdown",
   "metadata": {},
   "source": [
    "### Preparing the initial state\n",
    "The initial state is a uniform superposition of all the states $|q_1,...,q_n\\rangle$"
   ]
  },
  {
   "cell_type": "code",
   "execution_count": 8,
   "metadata": {},
   "outputs": [],
   "source": [
    "init_state_vect = [1 for i in range(2**n_qubits)]\n",
    "init_state = get_initial_state_instance('CUSTOM')\n",
    "init_state.init_args(n_qubits, state_vector=init_state_vect)"
   ]
  },
  {
   "cell_type": "markdown",
   "metadata": {},
   "source": [
    "### Constructing the initial circuit"
   ]
  },
  {
   "cell_type": "markdown",
   "metadata": {},
   "source": [
    "The initial circuit prepares the initial state"
   ]
  },
  {
   "cell_type": "code",
   "execution_count": 9,
   "metadata": {},
   "outputs": [],
   "source": [
    "qr = QuantumRegister(n_qubits)\n",
    "circuit_init = init_state.construct_circuit('circuit', qr)"
   ]
  },
  {
   "cell_type": "markdown",
   "metadata": {},
   "source": [
    "### Adding the unitary matrices to the circuit\n",
    "The total circuit builds the state $U(H_m,\\beta_k)U(H_c,\\gamma_k)...U(H_m,\\beta_1)U(H_c,\\gamma_1) | \\psi_0 \\rangle$"
   ]
  },
  {
   "cell_type": "markdown",
   "metadata": {},
   "source": [
    "The `evolve` takes a hamiltonian $H$ and an angle $t$ and returns a circuit component made of the unitary matrix $e^{j H t}$"
   ]
  },
  {
   "cell_type": "code",
   "execution_count": 10,
   "metadata": {
    "collapsed": true
   },
   "outputs": [],
   "source": [
    "def evolve(hamiltonian, angle, quantum_registers):\n",
    "    return hamiltonian.evolve(None, angle, 'circuit', 1,\n",
    "                              quantum_registers=quantum_registers,\n",
    "                              expansion_mode='suzuki',\n",
    "                              expansion_order=3)"
   ]
  },
  {
   "cell_type": "markdown",
   "metadata": {},
   "source": [
    "To create the circuit, we need to compose the different unitary matrice given by `evolve`. In Qiskit, composition of operators works with a `+`, but for the same reason as for Operators, we need to recreate the function `sum` manually using `reduce` (as in the [official implementation](https://github.com/Qiskit/aqua/blob/master/qiskit_aqua/algorithms/adaptive/qaoa/varform.py) of QAOA)"
   ]
  },
  {
   "cell_type": "code",
   "execution_count": 11,
   "metadata": {
    "collapsed": true
   },
   "outputs": [],
   "source": [
    "def create_circuit(gamma, beta):\n",
    "    circuit_evolv = reduce(lambda x,y: x+y, [evolve(Hm, beta[i], qr) + evolve(Hc, gamma[i], qr)\n",
    "                                             for i in range(n_beta_gamma)])\n",
    "    circuit = circuit_init + circuit_evolv\n",
    "    return circuit"
   ]
  },
  {
   "cell_type": "markdown",
   "metadata": {},
   "source": [
    "We now create a function `evaluate_circuit` that takes a single vector `gamma_beta` (the concatenation of `gamma` and `beta`) and returns $\\langle H_c \\rangle = \\langle \\psi | H_c | \\psi \\rangle$ where $\\psi$ is defined by the circuit created with the function above."
   ]
  },
  {
   "cell_type": "code",
   "execution_count": 12,
   "metadata": {
    "collapsed": true
   },
   "outputs": [],
   "source": [
    "def evaluate_circuit(gamma_beta):\n",
    "    n = len(gamma_beta)//2\n",
    "    circuit = create_circuit(gamma_beta[:n], gamma_beta[n:])\n",
    "    return np.real(Hc.eval(\"matrix\", circuit, 'statevector_simulator')[0]) # the value should always be real in theory, but for numerical reasons the imaginary part can be a very small number"
   ]
  },
  {
   "cell_type": "code",
   "execution_count": 13,
   "metadata": {},
   "outputs": [
    {
     "data": {
      "text/plain": [
       "0.07539864506320798"
      ]
     },
     "execution_count": 13,
     "metadata": {},
     "output_type": "execute_result"
    }
   ],
   "source": [
    "evaluate_circuit(np.concatenate([gamma, beta]))"
   ]
  },
  {
   "cell_type": "markdown",
   "metadata": {},
   "source": [
    "### Optimization procedure"
   ]
  },
  {
   "cell_type": "code",
   "execution_count": 14,
   "metadata": {},
   "outputs": [],
   "source": [
    "result = minimize(evaluate_circuit, np.concatenate([gamma, beta]), method='L-BFGS-B')"
   ]
  },
  {
   "cell_type": "code",
   "execution_count": 15,
   "metadata": {},
   "outputs": [
    {
     "data": {
      "text/plain": [
       "      fun: -0.9999999999998554\n",
       " hess_inv: <4x4 LbfgsInvHessProduct with dtype=float64>\n",
       "      jac: array([7.22e-07, 0.00e+00, 0.00e+00, 1.68e-06])\n",
       "  message: b'CONVERGENCE: NORM_OF_PROJECTED_GRADIENT_<=_PGTOL'\n",
       "     nfev: 90\n",
       "      nit: 9\n",
       "   status: 0\n",
       "  success: True\n",
       "        x: array([3.93, 1.2 , 2.7 , 1.18])"
      ]
     },
     "execution_count": 15,
     "metadata": {},
     "output_type": "execute_result"
    }
   ],
   "source": [
    "result"
   ]
  },
  {
   "cell_type": "markdown",
   "metadata": {},
   "source": [
    "### Analysis of the results"
   ]
  },
  {
   "cell_type": "markdown",
   "metadata": {},
   "source": [
    "We create a circuit using the optimal parameters found."
   ]
  },
  {
   "cell_type": "code",
   "execution_count": 16,
   "metadata": {
    "collapsed": true
   },
   "outputs": [],
   "source": [
    "circuit = create_circuit(result['x'][:n_beta_gamma], result['x'][n_beta_gamma:])"
   ]
  },
  {
   "cell_type": "markdown",
   "metadata": {},
   "source": [
    "We use the `statevector_simulator` backend in order to display the state created by the circuit."
   ]
  },
  {
   "cell_type": "code",
   "execution_count": 17,
   "metadata": {},
   "outputs": [
    {
     "name": "stdout",
     "output_type": "stream",
     "text": [
      "[7.07e-01 1.89e-07 1.89e-07 7.07e-01]\n",
      "[-0.79  0.83  0.83 -0.79]\n"
     ]
    }
   ],
   "source": [
    "backend = Aer.get_backend('statevector_simulator')\n",
    "job = q_execute(circuit, backend)\n",
    "state = np.asarray(job.result().get_statevector(circuit))\n",
    "print(np.absolute(state))\n",
    "print(np.angle(state))"
   ]
  },
  {
   "cell_type": "markdown",
   "metadata": {},
   "source": [
    "We see that the state is approximately $e^{0.79j} \\frac{1}{\\sqrt{2}} \\left( |00 \\rangle + |11 \\rangle \\right)$. It corresponds to a uniform superposition of the two solutions of the classicial problem: $(\\sigma_1=1$, $\\sigma_2=1)$ and $(\\sigma_1=-1$, $\\sigma_2=-1)$"
   ]
  },
  {
   "cell_type": "markdown",
   "metadata": {},
   "source": [
    "Let's now try to evaluate the operators $\\sigma^Z_1$ and $\\sigma^Z_2$ independently:"
   ]
  },
  {
   "cell_type": "code",
   "execution_count": 18,
   "metadata": {
    "collapsed": true
   },
   "outputs": [],
   "source": [
    "Z0 = pauli_z(0, 1)\n",
    "Z1 = pauli_z(1, 1)"
   ]
  },
  {
   "cell_type": "code",
   "execution_count": 19,
   "metadata": {},
   "outputs": [
    {
     "name": "stdout",
     "output_type": "stream",
     "text": [
      "(1.6653345369377348e-16+0j)\n",
      "(1.6653345369377348e-16+0j)\n"
     ]
    }
   ],
   "source": [
    "print(Z0.eval(\"matrix\", circuit, \"statevector_simulator\")[0])\n",
    "print(Z1.eval(\"matrix\", circuit, \"statevector_simulator\")[0])"
   ]
  },
  {
   "cell_type": "markdown",
   "metadata": {},
   "source": [
    "We see that both are approximatively equal to zero. It's expected given the state we found above and corresponds a typical quantum behavior where $\\mathbb{E}[\\sigma^Z_1 \\sigma^Z_2] \\neq \\mathbb{E}[\\sigma^Z_1] \\mathbb{E}[\\sigma^Z_2]$"
   ]
  }
 ],
 "metadata": {
  "kernelspec": {
   "display_name": "Python 3",
   "language": "python",
   "name": "python3"
  },
  "language_info": {
   "codemirror_mode": {
    "name": "ipython",
    "version": 3
   },
   "file_extension": ".py",
   "mimetype": "text/x-python",
   "name": "python",
   "nbconvert_exporter": "python",
   "pygments_lexer": "ipython3",
   "version": "3.7.0"
  }
 },
 "nbformat": 4,
 "nbformat_minor": 2
}
