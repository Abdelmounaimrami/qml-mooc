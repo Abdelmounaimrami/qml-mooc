{
 "cells": [
  {
   "cell_type": "markdown",
   "metadata": {},
   "source": [
    "Intro to kernel methods [...]\n",
    "\n",
    "# Thinking Backward: Learning Methods on What the Hardware Can Do\n",
    "\n",
    "Instead of twisting a machine learning algorithm until only contains subroutines that have quantum variants, we can reverse our thinking and ask: given a piece of quantum hardware and its constraints, can we come up with a new learning method? For instance, interference is a very natural thing to do: we showed an option in the first notebook on quantum states, and it can also be done with a Hadamard gate. For instance, imagine that you have training vectors encoded in some register, and this register is entangled with the $|0\\rangle$ in the superposition of an ancilla. The ancilla's $|1\\rangle$ of the superposition is entangled with another register that contains the test vector. Applying the Hadamard on the ancilla interferes the test and training instances. Measuring and post-selecting on the ancilla gives rise to a kernel."
   ]
  },
  {
   "cell_type": "code",
   "execution_count": null,
   "metadata": {},
   "outputs": [],
   "source": [
    "from qiskit import ClassicalRegister, QuantumRegister, QuantumCircuit\n",
    "from qiskit import execute\n",
    "from qiskit import Aer\n",
    "\n",
    "q = QuantumRegister(4)\n",
    "c = ClassicalRegister(4)\n",
    "backend = Aer.get_backend('qasm_simulator')"
   ]
  },
  {
   "cell_type": "markdown",
   "metadata": {},
   "source": [
    "Amplitude encoding"
   ]
  },
  {
   "cell_type": "code",
   "execution_count": null,
   "metadata": {
    "ExecuteTime": {
     "end_time": "2018-11-13T22:28:22.272296Z",
     "start_time": "2018-11-13T22:28:22.264386Z"
    }
   },
   "outputs": [],
   "source": [
    "def prepare_state(q, c, angles):\n",
    "    ancilla_qubit = q[0]\n",
    "    index_qubit = q[1]\n",
    "    data_qubit = q[2]\n",
    "    class_qubit = q[3]\n",
    "    qc = QuantumCircuit(q, c)\n",
    "    # put the ancilla and the index qubits into uniform superposition\n",
    "    qc.h(ancilla_qubit)\n",
    "    qc.h(index_qubit)\n",
    "\n",
    "    # loading the test vector (which we wish to classify)\n",
    "    qc.cx(ancilla_qubit, data_qubit)\n",
    "    qc.u3(-angles[0], 0, 0, data_qubit)\n",
    "    qc.cx(ancilla_qubit, data_qubit)\n",
    "    qc.u3(angles[0], 0, 0, data_qubit)\n",
    "\n",
    "    # barriers make sure that our circuit is being executed the way we want\n",
    "    # otherwise some gates might be executed before we want to\n",
    "    qc.barrier()\n",
    "\n",
    "    # flipping the ancilla qubit > this moves the input vector to the |0> state of the ancilla\n",
    "    qc.x(ancilla_qubit)\n",
    "    qc.barrier()\n",
    "\n",
    "    # loading the first training vector\n",
    "    # [0,1] -> class 0\n",
    "    # we can load this with a straightforward Toffoli\n",
    "\n",
    "    qc.ccx(ancilla_qubit, index_qubit, data_qubit)\n",
    "    qc.barrier()\n",
    "\n",
    "    # flip the index qubit > moves the first training vector to the |0> state of the index qubit\n",
    "    qc.x(index_qubit)\n",
    "    qc.barrier()\n",
    "\n",
    "    # loading the second training vector\n",
    "    # [0.78861, 0.61489] -> class 1\n",
    "\n",
    "    qc.ccx(ancilla_qubit, index_qubit, data_qubit)\n",
    "\n",
    "    qc.cx(index_qubit, data_qubit)\n",
    "    qc.u3(angles[1], 0, 0, data_qubit)\n",
    "    qc.cx(index_qubit, data_qubit)\n",
    "    qc.u3(-angles[1], 0, 0, data_qubit)\n",
    "\n",
    "    qc.ccx(ancilla_qubit, index_qubit, data_qubit)\n",
    "\n",
    "    qc.cx(index_qubit, data_qubit)\n",
    "    qc.u3(-angles[1], 0, 0, data_qubit)\n",
    "    qc.cx(index_qubit, data_qubit)\n",
    "    qc.u3(angles[1], 0, 0, data_qubit)\n",
    "\n",
    "    qc.barrier()\n",
    "    # Flip the class label for training vector #2\n",
    "    qc.cx(index_qubit, class_qubit)\n",
    "\n",
    "    qc.barrier()\n",
    "\n",
    "    return qc"
   ]
  },
  {
   "cell_type": "markdown",
   "metadata": {},
   "source": [
    "# A Natural Kernel on a Shallow Circuit\n",
    "\n",
    "$\\frac{1}{4N}\\sum_{i=1}^N |x' + x_i|^2$, where $x'$ is a test instance, and $\\{x_i\\}_{i=1}^N$ is the training set."
   ]
  },
  {
   "cell_type": "code",
   "execution_count": null,
   "metadata": {
    "ExecuteTime": {
     "end_time": "2018-11-13T22:28:27.712581Z",
     "start_time": "2018-11-13T22:28:27.703908Z"
    }
   },
   "outputs": [],
   "source": [
    "def interfere_data_and_test_instances(qc, q, c, angles):\n",
    "    qc.h(q[0])\n",
    "    qc.barrier()\n",
    "    qc.measure(q, c)\n",
    "    return qc"
   ]
  },
  {
   "cell_type": "code",
   "execution_count": null,
   "metadata": {
    "ExecuteTime": {
     "end_time": "2018-11-13T22:28:29.129145Z",
     "start_time": "2018-11-13T22:28:29.117552Z"
    }
   },
   "outputs": [],
   "source": [
    "x_prime = [-0.549, 0.836] # x' in publication\n",
    "x_double_prime = [0.053 , 0.999] # x'' in publication\n",
    "\n",
    "# training set must contain tuples: (vector, class)\n",
    "training_set = [\n",
    "    ([0, 1], 0), # class 0 training vector\n",
    "    ([0.78861006, 0.61489363], 1) # class 1 training vector\n",
    "]\n",
    "test_angles = [4.30417579487669/2, 3.0357101997648965/2]\n",
    "training_angle = 1.3245021469658966/4"
   ]
  },
  {
   "cell_type": "code",
   "execution_count": null,
   "metadata": {
    "ExecuteTime": {
     "end_time": "2018-11-13T22:28:51.680204Z",
     "start_time": "2018-11-13T22:28:50.201042Z"
    }
   },
   "outputs": [],
   "source": [
    "from qiskit.tools.visualization import circuit_drawer\n",
    "angles = [test_angles[0], training_angle]\n",
    "state_preparation_0 = prepare_state(q, c, angles)\n",
    "circuit_0 = interfere_data_and_test_instances(state_preparation_0, q, c, angles)\n",
    "circuit_drawer(circuit_0)"
   ]
  },
  {
   "cell_type": "code",
   "execution_count": null,
   "metadata": {
    "ExecuteTime": {
     "end_time": "2018-11-13T22:29:28.771653Z",
     "start_time": "2018-11-13T22:29:27.314289Z"
    }
   },
   "outputs": [],
   "source": [
    "angles = [test_angles[1], training_angle]\n",
    "state_preparation_1 = prepare_state(q, c, angles)\n",
    "circuit_1 = interfere_data_and_test_instances(state_preparation_1, q, c, angles)\n",
    "circuit_drawer(circuit_1)"
   ]
  },
  {
   "cell_type": "code",
   "execution_count": null,
   "metadata": {
    "ExecuteTime": {
     "end_time": "2018-11-13T21:49:40.900347Z",
     "start_time": "2018-11-13T21:49:40.881186Z"
    }
   },
   "outputs": [],
   "source": [
    "def interpret_results(result_counts):\n",
    "    \"\"\"\n",
    "    Post-selecting only the results where\n",
    "    the ancilla was measured in the |0> state.\n",
    "    Then computing the statistics of the class\n",
    "    qubit.\n",
    "    \"\"\"\n",
    "\n",
    "    total_samples = sum(result_counts.values())\n",
    "\n",
    "    # define lambda function that retrieves only results where the ancilla is in the |0> state\n",
    "    post_select = lambda counts: [(state, occurences) for state, occurences in counts.items() if state[-1] == '0']\n",
    "\n",
    "    # perform the postselection\n",
    "    postselection = dict(post_select(result_counts))\n",
    "    postselected_samples = sum(postselection.values())\n",
    "\n",
    "    print(f'Ancilla post-selection probability was found to be {postselected_samples/total_samples}')\n",
    "\n",
    "    retrieve_class = lambda binary_class: [occurences for state, occurences in postselection.items() if state[0] == str(binary_class)]\n",
    "\n",
    "    prob_class0 = sum(retrieve_class(0))/postselected_samples\n",
    "    prob_class1 = sum(retrieve_class(1))/postselected_samples\n",
    "\n",
    "    print(f'Probability for class 0 is {prob_class0}')\n",
    "    print(f'Probability for class 1 is {prob_class1}')\n",
    "\n",
    "    return prob_class0, prob_class1"
   ]
  },
  {
   "cell_type": "code",
   "execution_count": null,
   "metadata": {
    "ExecuteTime": {
     "end_time": "2018-11-13T21:52:53.389735Z",
     "start_time": "2018-11-13T21:52:52.023035Z"
    }
   },
   "outputs": [],
   "source": [
    "job = execute(qc0, backend)\n",
    "result = job.result()\n",
    "prob_class0, prob_class1 = interpret_results(result.get_counts(qc0))"
   ]
  },
  {
   "cell_type": "code",
   "execution_count": null,
   "metadata": {
    "ExecuteTime": {
     "end_time": "2018-11-13T21:52:22.377679Z",
     "start_time": "2018-11-13T21:52:21.027353Z"
    }
   },
   "outputs": [],
   "source": [
    "job = execute(qc1, backend)\n",
    "result = job.result()\n",
    "prob_class0, prob_class1 = interpret_results(result.get_counts(qc1))"
   ]
  },
  {
   "cell_type": "markdown",
   "metadata": {},
   "source": [
    "# References\n",
    "\n",
    "[1] M. Schuld, M. Fingerhuth, F. Petruccione. (2017). [Implementing a distance-based classifier with a quantum interference circuit](https://doi.org/10.1209/0295-5075/119/60002). *Europhysics Letters*, 119(6), 60002. "
   ]
  }
 ],
 "metadata": {
  "kernelspec": {
   "display_name": "Python 3",
   "language": "python",
   "name": "python3"
  },
  "language_info": {
   "codemirror_mode": {
    "name": "ipython",
    "version": 3
   },
   "file_extension": ".py",
   "mimetype": "text/x-python",
   "name": "python",
   "nbconvert_exporter": "python",
   "pygments_lexer": "ipython3",
   "version": "3.7.0"
  }
 },
 "nbformat": 4,
 "nbformat_minor": 2
}
